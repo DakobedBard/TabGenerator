{
 "cells": [
  {
   "cell_type": "code",
   "execution_count": 27,
   "metadata": {},
   "outputs": [],
   "source": [
    "import os\n",
    "import numpy as np\n",
    "from keras.models import Sequential\n",
    "from keras.layers import Dense, Dropout, Activation, Conv2D, MaxPool2D, Flatten\n",
    "from generators.SpectogramGenerator import SpectogramGenerator, testGenerator\n",
    "from math import floor"
   ]
  },
  {
   "cell_type": "code",
   "execution_count": 28,
   "metadata": {},
   "outputs": [
    {
     "name": "stdout",
     "output_type": "stream",
     "text": [
      "The autoreload extension is already loaded. To reload it, use:\n",
      "  %reload_ext autoreload\n"
     ]
    }
   ],
   "source": [
    "%load_ext autoreload\n",
    "%autoreload 2"
   ]
  },
  {
   "cell_type": "markdown",
   "metadata": {},
   "source": [
    "## Tablature\n",
    "\n",
    "Import "
   ]
  },
  {
   "cell_type": "code",
   "execution_count": null,
   "metadata": {},
   "outputs": [],
   "source": []
  },
  {
   "cell_type": "code",
   "execution_count": 29,
   "metadata": {},
   "outputs": [],
   "source": [
    "generator = SpectogramGenerator(train=True)\n",
    "valgenerator = SpectogramGenerator(train=False)\n",
    "\n",
    "num_epochs = 3\n",
    "\n",
    "model = Sequential()\n",
    "model.add(Conv2D(filters = 64, kernel_size = (3,3), kernel_initializer='normal', activation='relu', padding = 'same',input_shape=( 5,1025,1)))\n",
    "model.add(MaxPool2D(pool_size =(2,2)))\n",
    "model.add(Dropout(.25))\n",
    "model.add(Flatten())\n",
    "model.add(Dense(128, activation='tanh'))\n",
    "model.add(Dropout(.2))\n",
    "model.add(Dense(48,kernel_initializer='normal', activation='sigmoid'))\n",
    "model.compile(loss='binary_crossentropy', optimizer='adam', metrics =['accuracy'])\n",
    "batch_size = 32"
   ]
  },
  {
   "cell_type": "code",
   "execution_count": 30,
   "metadata": {},
   "outputs": [
    {
     "name": "stderr",
     "output_type": "stream",
     "text": [
      "/home/ubuntu/anaconda3/envs/tensorflow_p36/lib/python3.6/site-packages/keras/engine/training_generator.py:47: UserWarning: Using a generator with `use_multiprocessing=True` and multiple workers may duplicate your data. Please consider using the`keras.utils.Sequence class.\n",
      "  UserWarning('Using a generator with `use_multiprocessing=True`'\n"
     ]
    },
    {
     "name": "stdout",
     "output_type": "stream",
     "text": [
      "Epoch 1/3\n",
      "11943/11943 [==============================] - 306s 26ms/step - loss: 0.0180 - acc: 0.9972 - val_loss: 0.0295 - val_acc: 0.9960\n",
      "Epoch 2/3\n",
      "11943/11943 [==============================] - 304s 25ms/step - loss: 0.0179 - acc: 0.9972 - val_loss: 0.0301 - val_acc: 0.9960\n",
      "Epoch 3/3\n",
      "11943/11943 [==============================] - 304s 25ms/step - loss: 0.0174 - acc: 0.9972 - val_loss: 0.0264 - val_acc: 0.9963\n"
     ]
    },
    {
     "data": {
      "text/plain": [
       "<keras.callbacks.History at 0x7fc1ef1cd208>"
      ]
     },
     "execution_count": 30,
     "metadata": {},
     "output_type": "execute_result"
    }
   ],
   "source": [
    "model.fit_generator(generator,\n",
    "                      epochs=num_epochs,\n",
    "                      steps_per_epoch = floor(382182/batch_size),\n",
    "                      verbose=1,\n",
    "                      use_multiprocessing=True,\n",
    "                      workers=16,\n",
    "                      validation_data = valgenerator,\n",
    "                      validation_steps = floor(88281/batch_size),\n",
    "                      max_queue_size=32)"
   ]
  },
  {
   "cell_type": "code",
   "execution_count": 31,
   "metadata": {},
   "outputs": [],
   "source": [
    "model.save?"
   ]
  },
  {
   "cell_type": "code",
   "execution_count": 34,
   "metadata": {},
   "outputs": [],
   "source": [
    "model.save('my_model.h5')"
   ]
  },
  {
   "cell_type": "code",
   "execution_count": 33,
   "metadata": {},
   "outputs": [
    {
     "name": "stdout",
     "output_type": "stream",
     "text": [
      "\u001b[0m\u001b[01;35maudio.png\u001b[0m                 Generate Tablature.ipynb      README.md\r\n",
      "check_bucket_contents.sh  \u001b[01;34mgenerators\u001b[0m/                   \u001b[01;35mscreenshot.png\u001b[0m\r\n",
      "CNN.ipynb                 init_recording_collection.py  \u001b[01;34mTabFlask\u001b[0m/\r\n",
      "\u001b[01;35mcnn.png\u001b[0m                   \u001b[01;34mmir_evaluation\u001b[0m/               \u001b[01;34mtabgen\u001b[0m/\r\n",
      "ConvolutonNetwork1.ipynb  \u001b[01;34mmodels\u001b[0m/                       \u001b[01;35mtab.png\u001b[0m\r\n",
      "\u001b[01;34mdata\u001b[0m/                     my_model.h5                   train_network.py\r\n",
      "fit_generator.py          onset.py                      transcriptions.py\r\n",
      "generate.py               \u001b[01;34m__pycache__\u001b[0m/                  upload_s3_data.sh\r\n"
     ]
    }
   ],
   "source": [
    "ls"
   ]
  },
  {
   "cell_type": "code",
   "execution_count": null,
   "metadata": {},
   "outputs": [],
   "source": []
  }
 ],
 "metadata": {
  "kernelspec": {
   "display_name": "Python 3",
   "language": "python",
   "name": "python3"
  },
  "language_info": {
   "codemirror_mode": {
    "name": "ipython",
    "version": 3
   },
   "file_extension": ".py",
   "mimetype": "text/x-python",
   "name": "python",
   "nbconvert_exporter": "python",
   "pygments_lexer": "ipython3",
   "version": "3.6.5"
  }
 },
 "nbformat": 4,
 "nbformat_minor": 2
}
