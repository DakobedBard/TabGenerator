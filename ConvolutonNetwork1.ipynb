{
 "cells": [
  {
   "cell_type": "markdown",
   "metadata": {},
   "source": [
    "Define a few utility functions to laod the test and training data...."
   ]
  },
  {
   "cell_type": "code",
   "execution_count": null,
   "metadata": {},
   "outputs": [],
   "source": [
    "\n",
    "def load_test_data():\n",
    "    path = os.getcwd()\n",
    "    path += '/data/spec_labels/test/'\n",
    "\n",
    "    files = os.listdir(path)    \n",
    "    min_file_index = min([int(f.split('_')[1]) for f in files])\n",
    "\n",
    "    for i in range(len(files)):\n",
    "\n",
    "        spec , annotation = load_transform_and_annotation(i+min_file_index, train=False)\n",
    "        windowed_spectogram = generate_windowed_samples(spec)\n",
    "        if i == 0:\n",
    "            X_test = windowed_spectogram\n",
    "            y_test = annotation \n",
    "        else:\n",
    "            X_test = np.concatenate((X_test, windowed_spectogram), axis = 0)\n",
    "            y_test = np.concatenate((y_test, annotation), axis = 0)\n",
    "\n",
    "\n",
    "    X_test = X_test.reshape((X_test.shape[0], X_test.shape[1], X_test.shape[2],1))\n",
    "\n",
    "    return X_test, y_test\n",
    "\n",
    "\n",
    "\n",
    "\n",
    "def load_train_data():\n",
    "    path = os.getcwd()\n",
    "    path += '/data/spec_labels/train/'\n",
    "\n",
    "    files = os.listdir(path)    \n",
    "\n",
    "    for i in range(len(files)):\n",
    "        spec , annotation = load_transform_and_annotation(i)\n",
    "        windowed_spectogram = generate_windowed_samples(spec)\n",
    "        if i == 0:\n",
    "            X_test = windowed_spectogram\n",
    "            y_test = annotation \n",
    "        else:\n",
    "            X_test = np.concatenate((X_test, windowed_spectogram), axis = 0)\n",
    "            y_test = np.concatenate((y_test, annotation), axis = 0)\n",
    "\n",
    "\n",
    "    X_train = X_test.reshape((X_test.shape[0], X_test.shape[1],X_test.shape[2], 1))\n",
    "\n",
    "    return X_train, y_test"
   ]
  },
  {
   "cell_type": "code",
   "execution_count": null,
   "metadata": {},
   "outputs": [],
   "source": [
    "X_train, y_train = load_train_data()\n",
    "X_test, y_tet = load_test_data()df"
   ]
  }
 ],
 "metadata": {
  "kernelspec": {
   "display_name": "Python 3",
   "language": "python",
   "name": "python3"
  },
  "language_info": {
   "codemirror_mode": {
    "name": "ipython",
    "version": 3
   },
   "file_extension": ".py",
   "mimetype": "text/x-python",
   "name": "python",
   "nbconvert_exporter": "python",
   "pygments_lexer": "ipython3",
   "version": "3.6.6"
  }
 },
 "nbformat": 4,
 "nbformat_minor": 2
}
